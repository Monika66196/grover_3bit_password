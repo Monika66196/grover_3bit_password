{
 "cells": [
  {
   "cell_type": "markdown",
   "metadata": {},
   "source": [
    "# Grover's Algorithm: Cracking a 3-bit Password\n",
    "\n",
    "## Problem\n",
    "A secure system uses a 3-bit password (`000` to `111`). We do not know the password, but we have a black-box oracle that tells us if a guess is correct. The goal is to find the password using as few checks as possible.\n",
    "\n",
    "## Theory\n",
    "- **Classical search:** May require up to 8 checks.\n",
    "- **Grover's Algorithm:** Can find the password in ~2 oracle calls (O(√8)).\n",
    "\n",
    "Grover's algorithm works by amplifying the probability of the correct answer using the following steps:\n",
    "- Create a superposition of all possible passwords.\n",
    "- Use an oracle to flip the sign of the correct password's amplitude.\n",
    "- Apply the diffusion operator to amplify the probability.\n",
    "- Repeat for ⌊π/4 × √N⌋ times.\n",
    "- Measure the system — with high probability, we get the correct password."
   ]
  },
  {
   "cell_type": "markdown",
   "metadata": {},
   "source": [
    "## Implementation\n",
    "\n",
    "We'll use [Qiskit](https://qiskit.org/) to simulate the quantum circuit. You can run this notebook locally or in IBM Quantum Lab."
   ]
  },
  {
   "cell_type": "code",
   "metadata": {},
   "source": [
    "# Install Qiskit if running locally\n",
    "# !pip install qiskit\n",
    "from qiskit import QuantumCircuit, Aer, execute\n",
    "from qiskit.visualization import plot_histogram, plot_bloch_multivector\n",
    "from qiskit.quantum_info import Statevector\n",
    "import matplotlib.pyplot as plt\n",
    "import numpy as np"
   ],
   "execution_count": null,
   "outputs": []
  },
  {
   "cell_type": "markdown",
   "metadata": {},
   "source": [
    "### Define the 3-bit Password Oracle\n",
    "Suppose the password is `x`, e.g., `x = 5` (binary `101`). The oracle will flip the sign only for `|x⟩`."
   ]
  },
  {
   "cell_type": "code",
   "metadata": {},
   "source": [
    "def password_oracle(n_qubits, password):\n",
    "    '''Creates a quantum oracle that flips the sign of the state |password⟩'''\n",
    "    qc = QuantumCircuit(n_qubits)\n",
    "    # Apply X to qubits where password bit is 0 (to map |password⟩ to |111⟩)\n",
    "    for i in range(n_qubits):\n",
    "        if ((password >> i) & 1) == 0:\n",
    "            qc.x(i)\n",
    "    # Multi-controlled Z (on all qubits)\n",
    "    qc.h(n_qubits-1)\n",
    "    qc.mct(list(range(n_qubits-1)), n_qubits-1) # multi-controlled Toffoli\n",
    "    qc.h(n_qubits-1)\n",
    "    # Undo the X gates\n",
    "    for i in range(n_qubits):\n",
    "        if ((password >> i) & 1) == 0:\n",
    "            qc.x(i)\n",
    "    oracle_gate = qc.to_gate()\n",
    "    oracle_gate.name = f'Oracle({password:03b})'\n",
    "    return oracle_gate"
   ],
   "execution_count": null,
   "outputs": []
  },
  {
   "cell_type": "markdown",
   "metadata": {},
   "source": [
    "### Grover Diffusion Operator\n",
    "Amplifies the probability of the marked state."
   ]
  },
  {
   "cell_type": "code",
   "metadata": {},
   "source": [
    "def grover_diffusion(n_qubits):\n",
    "    qc = QuantumCircuit(n_qubits)\n",
    "    qc.h(range(n_qubits))\n",
    "    qc.x(range(n_qubits))\n",
    "    qc.h(n_qubits-1)\n",
    "    qc.mct(list(range(n_qubits-1)), n_qubits-1)\n",
    "    qc.h(n_qubits-1)\n",
    "    qc.x(range(n_qubits))\n",
    "    qc.h(range(n_qubits))\n",
    "    return qc.to_gate(label='Diffusion')"
   ],
   "execution_count": null,
   "outputs": []
  },
  {
   "cell_type": "markdown",
   "metadata": {},
   "source": [
    "### Grover's Search Circuit for 3 bits"
   ]
  },
  {
   "cell_type": "code",
   "metadata": {},
   "source": [
    "n_qubits = 3\n",
    "password = 5 # Try changing this (0-7)\n",
    "\n",
    "# Number of Grover iterations: round(pi/4 * sqrt(N)), N=8\n",
    "N = 2**n_qubits\n",
    "k = int(np.floor(np.pi/4 * np.sqrt(N)))\n",
    "print(f'Grover iterations: {k}')\n",
    "\n",
    "qc = QuantumCircuit(n_qubits, n_qubits)\n",
    "# Step 1: Initialize superposition\n",
    "qc.h(range(n_qubits))\n",
    "# Step 2: Repeat Grover iteration\n",
    "oracle = password_oracle(n_qubits, password)\n",
    "diff = grover_diffusion(n_qubits)\n",
    "for _ in range(k):\n",
    "    qc.append(oracle, range(n_qubits))\n",
    "    qc.append(diff, range(n_qubits))\n",
    "# Step 3: Measurement\n",
    "qc.measure(range(n_qubits), range(n_qubits))\n",
    "qc.draw('mpl')"
   ],
   "execution_count": null,
   "outputs": []
  },
  {
   "cell_type": "markdown",
   "metadata": {},
   "source": [
    "### Simulate the Circuit"
   ]
  },
  {
   "cell_type": "code",
   "metadata": {},
   "source": [
    "backend = Aer.get_backend('qasm_simulator')\n",
    "shots = 1024\n",
    "job = execute(qc, backend=backend, shots=shots)\n",
    "result = job.result()\n",
    "counts = result.get_counts()\n",
    "plot_histogram(counts)\n",
    "plt.show()\n",
    "print(f'Highest probability state: {max(counts, key=counts.get)} (password: {password:03b})')"
   ],
   "execution_count": null,
   "outputs": []
  },
  {
   "cell_type": "markdown",
   "metadata": {},
   "source": [
    "## Success Probability vs. Number of Iterations\n",
    "\n",
    "Let's see how the success probability changes if we use 1, 2, or 3 Grover iterations."
   ]
  },
  {
   "cell_type": "code",
   "metadata": {},
   "source": [
    "probs = []\n",
    "iters = [1,2,3]\n",
    "for k in iters:\n",
    "    qc = QuantumCircuit(n_qubits, n_qubits)\n",
    "    qc.h(range(n_qubits))\n",
    "    oracle = password_oracle(n_qubits, password)\n",
    "    diff = grover_diffusion(n_qubits)\n",
    "    for _ in range(k):\n",
    "        qc.append(oracle, range(n_qubits))\n",
    "        qc.append(diff, range(n_qubits))\n",
    "    qc.measure(range(n_qubits), range(n_qubits))\n",
    "    job = execute(qc, backend=backend, shots=shots)\n",
    "    counts = job.result().get_counts()\n",
    "    success = counts.get(f'{password:03b}', 0)/shots\n",
    "    probs.append(success)\n",
    "plt.plot(iters, probs, 'o-')\n",
    "plt.xlabel('Number of Grover Iterations')\n",
    "plt.ylabel('Success Probability')\n",
    "plt.title('Grover Success Probability vs Iterations')\n",
    "plt.show()"
   ],
   "execution_count": null,
   "outputs": []
  },
  {
   "cell_type": "markdown",
   "metadata": {},
   "source": [
    "# Conclusion\n",
    "\n",
    "- Grover's algorithm finds the password with high probability in only ~2 oracle calls, compared to 8 classically.\n",
    "- For a 3-bit password, the correct answer is found with >90% probability after 2 iterations.\n",
    "- This demonstrates the quantum speedup for unstructured search problems.\n",
    "\n",
    "---\n",
    "\n",
    "Try changing `password` and number of qubits to see how Grover's algorithm scales!"
   ]
  }
 ],
 "metadata": {
  "kernelspec": {
   "display_name": "Python 3",
   "language": "python",
   "name": "python3"
  },
  "language_info": {
   "name": "python",
   "version": "3.8"
  }
 },
 "nbformat": 4,
 "nbformat_minor": 2
}
