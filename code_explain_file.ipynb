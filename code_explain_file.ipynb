from nbformat import v4 as nbf
from pathlib import Path

# Create a detailed explanation-based notebook
cells = []

cells.append(nbf.new_markdown_cell("# 🧠 Grover's Algorithm: Cracking a 3-bit Password\n"
"This notebook demonstrates Grover's Algorithm step-by-step with **word-by-word explanations**.\n"
"We aim to find a secret 3-bit password (e.g., `'101'`) using fewer checks than classical brute-force search."))

# Install cell
cells.append(nbf.new_code_cell("# Install Qiskit (only if you're running locally)\n# !pip install qiskit"))

# Imports with explanation
cells.append(nbf.new_markdown_cell("## 📦 Step 1: Import Libraries"))
cells.append(nbf.new_code_cell(
    "# We import the necessary Qiskit and plotting libraries\n"
    "from qiskit import QuantumCircuit, Aer, execute\n"
    "from qiskit.visualization import plot_histogram\n"
    "from qiskit.quantum_info import Statevector\n"
    "import matplotlib.pyplot as plt\n"
    "import numpy as np"
))

# Oracle function
cells.append(nbf.new_markdown_cell("## 🔐 Step 2: Define the Oracle\n"
"The oracle flips the sign of the amplitude of the correct password. It acts like a black-box that returns true only for the secret."))
cells.append(nbf.new_code_cell(
    "def password_oracle(n_qubits, password):\n"
    "    '''Creates a quantum oracle that flips the sign of the state |password⟩'''\n"
    "    qc = QuantumCircuit(n_qubits)\n"
    "    # Step 1: Flip qubits where password has 0 (to map |password⟩ to |111⟩)\n"
    "    for i in range(n_qubits):\n"
    "        if ((password >> i) & 1) == 0:\n"
    "            qc.x(i)  # Apply X gate to invert bits with 0 in target\n"
    "\n"
    "    # Step 2: Multi-controlled-Z using H and MCT\n"
    "    qc.h(n_qubits-1)  # Put last qubit into phase basis\n"
    "    qc.mct(list(range(n_qubits-1)), n_qubits-1)  # Apply multi-controlled Toffoli (acts like Z)\n"
    "    qc.h(n_qubits-1)  # Bring back to normal basis\n"
    "\n"
    "    # Step 3: Undo the X gates to reset\n"
    "    for i in range(n_qubits):\n"
    "        if ((password >> i) & 1) == 0:\n"
    "            qc.x(i)\n"
    "\n"
    "    oracle_gate = qc.to_gate()\n"
    "    oracle_gate.name = f'Oracle({password:03b})'  # Label the gate\n"
    "    return oracle_gate"
))

# Diffusion operator
cells.append(nbf.new_markdown_cell("## 🔄 Step 3: Grover Diffusion Operator\n"
"This step amplifies the correct state by reflecting all amplitudes around the average."))
cells.append(nbf.new_code_cell(
    "def grover_diffusion(n_qubits):\n"
    "    qc = QuantumCircuit(n_qubits)\n"
    "    # Step 1: Apply Hadamard to go to equal superposition\n"
    "    qc.h(range(n_qubits))\n"
    "\n"
    "    # Step 2: Invert about mean (X -> H -> MCT -> H -> X)\n"
    "    qc.x(range(n_qubits))\n"
    "    qc.h(n_qubits-1)\n"
    "    qc.mct(list(range(n_qubits-1)), n_qubits-1)\n"
    "    qc.h(n_qubits-1)\n"
    "    qc.x(range(n_qubits))\n"
    "    qc.h(range(n_qubits))\n"
    "    return qc.to_gate(label='Diffusion')"
))

# Grover circuit
cells.append(nbf.new_markdown_cell("## ⚙️ Step 4: Build Grover Circuit for 3-bit Password"))
cells.append(nbf.new_code_cell(
    "n_qubits = 3\n"
    "password = 5  # Let's say the hidden password is '101' (binary of 5)\n"
    "\n"
    "# Calculate number of Grover iterations: floor(pi/4 * sqrt(N))\n"
    "N = 2**n_qubits\n"
    "k = int(np.floor(np.pi/4 * np.sqrt(N)))\n"
    "print(f'Grover iterations: {k}')\n"
    "\n"
    "# Create the quantum circuit\n"
    "qc = QuantumCircuit(n_qubits, n_qubits)\n"
    "\n"
    "# Step 1: Apply Hadamard to all qubits to create superposition\n"
    "qc.h(range(n_qubits))  # This puts all 8 states (000 to 111) in equal superposition\n"
    "\n"
    "# Step 2: Apply Grover iteration (oracle + diffusion)\n"
    "oracle = password_oracle(n_qubits, password)\n"
    "diff = grover_diffusion(n_qubits)\n"
    "for _ in range(k):\n"
    "    qc.append(oracle, range(n_qubits))  # Apply the oracle\n"
    "    qc.append(diff, range(n_qubits))    # Amplify the result\n"
    "\n"
    "# Step 3: Measure the output\n"
    "qc.measure(range(n_qubits), range(n_qubits))\n"
    "qc.draw('mpl')"
))

# Simulation
cells.append(nbf.new_markdown_cell("## 🧪 Step 5: Simulate the Circuit"))
cells.append(nbf.new_code_cell(
    "backend = Aer.get_backend('qasm_simulator')  # Use simulator backend\n"
    "shots = 1024\n"
    "job = execute(qc, backend=backend, shots=shots)\n"
    "result = job.result()\n"
    "counts = result.get_counts()\n"
    "plot_histogram(counts)\n"
    "plt.show()\n"
    "print(f'Highest probability state: {max(counts, key=counts.get)} (password: {password:03b})')"
))

# Iteration comparison
cells.append(nbf.new_markdown_cell("## 📈 Step 6: Success Probability vs. Number of Iterations"))
cells.append(nbf.new_code_cell(
    "probs = []\n"
    "iters = [1,2,3]\n"
    "for k in iters:\n"
    "    qc = QuantumCircuit(n_qubits, n_qubits)\n"
    "    qc.h(range(n_qubits))\n"
    "    oracle = password_oracle(n_qubits, password)\n"
    "    diff = grover_diffusion(n_qubits)\n"
    "    for _ in range(k):\n"
    "        qc.append(oracle, range(n_qubits))\n"
    "        qc.append(diff, range(n_qubits))\n"
    "    qc.measure(range(n_qubits), range(n_qubits))\n"
    "    job = execute(qc, backend=backend, shots=shots)\n"
    "    counts = job.result().get_counts()\n"
    "    success = counts.get(f'{password:03b}', 0)/shots\n"
    "    probs.append(success)\n"
    "plt.plot(iters, probs, 'o-')\n"
    "plt.xlabel('Number of Grover Iterations')\n"
    "plt.ylabel('Success Probability')\n"
    "plt.title('Grover Success Probability vs Iterations')\n"
    "plt.show()"
))

# Final conclusion
cells.append(nbf.new_markdown_cell("## ✅ Conclusion\n"
"- Grover's algorithm finds the password in just ~2 iterations vs 8 classically.\n"
"- After just 2 iterations, the probability of success is >90%.\n"
"- This shows how quantum algorithms can offer real-world speedups for search problems.\n\n"
"🎯 Try changing the password or increasing the number of qubits to see Grover’s scaling!"))

# Save notebook
notebook = nbf.new_notebook(cells=cells)
path = "/mnt/data/grover_password_cracking_with_explanation.ipynb"
Path(path).write_text(nbf.writes(notebook))

path
