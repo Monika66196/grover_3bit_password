from pathlib import Path

# Create the content of the .ipynb file with line-by-line explanation of Grover's algorithm
notebook_content = {
 "cells": [
  {
   "cell_type": "markdown",
   "metadata": {},
   "source": [
    "# 🔐 Grover's Algorithm: Password Cracking (3-bit) with Explanation\n",
    "\n",
    "This notebook demonstrates how to use Grover's Algorithm to crack a 3-bit password using Qiskit, with **line-by-line comments** explaining each part of the code."
   ]
  },
  {
   "cell_type": "code",
   "execution_count": None,
   "metadata": {},
   "outputs": [],
   "source": [
    "# Import basic modules from Qiskit and visualization tools\n",
    "from qiskit import QuantumCircuit, Aer, execute\n",
    "from qiskit.visualization import plot_histogram\n",
    "from qiskit.quantum_info import Statevector\n",
    "\n",
    "# Plotting and math libraries\n",
    "import matplotlib.pyplot as plt\n",
    "import numpy as np"
   ]
  },
  {
   "cell_type": "code",
   "execution_count": None,
   "metadata": {},
   "outputs": [],
   "source": [
    "def password_oracle(n_qubits, password):\n",
    "    '''Creates a quantum oracle that flips the sign of the state |password⟩'''\n",
    "    qc = QuantumCircuit(n_qubits)\n",
    "\n",
    "    for i in range(n_qubits):\n",
    "        if ((password >> i) & 1) == 0:\n",
    "            qc.x(i)\n",
    "\n",
    "    qc.h(n_qubits-1)\n",
    "    qc.mct(list(range(n_qubits-1)), n_qubits-1)\n",
    "    qc.h(n_qubits-1)\n",
    "\n",
    "    for i in range(n_qubits):\n",
    "        if ((password >> i) & 1) == 0:\n",
    "            qc.x(i)\n",
    "\n",
    "    oracle_gate = qc.to_gate()\n",
    "    oracle_gate.name = f'Oracle({password:03b})'\n",
    "    return oracle_gate"
   ]
  },
  {
   "cell_type": "code",
   "execution_count": None,
   "metadata": {},
   "outputs": [],
   "source": [
    "def grover_diffusion(n_qubits):\n",
    "    '''Creates the Grover diffuser to amplify the marked state's probability'''\n",
    "    qc = QuantumCircuit(n_qubits)\n",
    "\n",
    "    qc.h(range(n_qubits))\n",
    "    qc.x(range(n_qubits))\n",
    "\n",
    "    qc.h(n_qubits-1)\n",
    "    qc.mct(list(range(n_qubits-1)), n_qubits-1)\n",
    "    qc.h(n_qubits-1)\n",
    "\n",
    "    qc.x(range(n_qubits))\n",
    "    qc.h(range(n_qubits))\n",
    "    return qc.to_gate(label='Diffusion')"
   ]
  },
  {
   "cell_type": "code",
   "execution_count": None,
   "metadata": {},
   "outputs": [],
   "source": [
    "n_qubits = 3\n",
    "password = 5  # Secret password is '101'\n",
    "N = 2**n_qubits\n",
    "k = int(np.floor(np.pi/4 * np.sqrt(N)))  # Optimal number of Grover iterations\n",
    "print(f'Grover iterations: {k}')"
   ]
  },
  {
   "cell_type": "code",
   "execution_count": None,
   "metadata": {},
   "outputs": [],
   "source": [
    "qc = QuantumCircuit(n_qubits, n_qubits)\n",
    "\n",
    "qc.h(range(n_qubits))  # Step 1: Superposition\n",
    "\n",
    "oracle = password_oracle(n_qubits, password)\n",
    "diff = grover_diffusion(n_qubits)\n",
    "\n",
    "for _ in range(k):\n",
    "    qc.append(oracle, range(n_qubits))\n",
    "    qc.append(diff, range(n_qubits))\n",
    "\n",
    "qc.measure(range(n_qubits), range(n_qubits))\n",
    "\n",
    "qc.draw('mpl')"
   ]
  },
  {
   "cell_type": "code",
   "execution_count": None,
   "metadata": {},
   "outputs": [],
   "source": [
    "backend = Aer.get_backend('qasm_simulator')\n",
    "shots = 1024\n",
    "\n",
    "job = execute(qc, backend=backend, shots=shots)\n",
    "result = job.result()\n",
    "counts = result.get_counts()\n",
    "\n",
    "plot_histogram(counts)\n",
    "plt.show()\n",
    "print(f'Highest probability state: {max(counts, key=counts.get)} (password: {password:03b})')"
   ]
  },
  {
   "cell_type": "code",
   "execution_count": None,
   "metadata": {},
   "outputs": [],
   "source": [
    "probs = []\n",
    "iters = [1, 2, 3]\n",
    "\n",
    "for k in iters:\n",
    "    qc = QuantumCircuit(n_qubits, n_qubits)\n",
    "    qc.h(range(n_qubits))\n",
    "    oracle = password_oracle(n_qubits, password)\n",
    "    diff = grover_diffusion(n_qubits)\n",
    "    for _ in range(k):\n",
    "        qc.append(oracle, range(n_qubits))\n",
    "        qc.append(diff, range(n_qubits))\n",
    "    qc.measure(range(n_qubits), range(n_qubits))\n",
    "    job = execute(qc, backend=backend, shots=shots)\n",
    "    counts = job.result().get_counts()\n",
    "    success = counts.get(f'{password:03b}', 0) / shots\n",
    "    probs.append(success)\n",
    "\n",
    "plt.plot(iters, probs, 'o-')\n",
    "plt.xlabel('Number of Grover Iterations')\n",
    "plt.ylabel('Success Probability')\n",
    "plt.title('Grover Success Probability vs Iterations')\n",
    "plt.grid(True)\n",
    "plt.show()"
   ]
  }
 ],
 "metadata": {
  "kernelspec": {
   "display_name": "Python 3",
   "language": "python",
   "name": "python3"
  },
  "language_info": {
   "name": "python",
   "version": "3.10"
  }
 },
 "nbformat": 4,
 "nbformat_minor": 2
}

# Save notebook as .ipynb
output_path = "/mnt/data/grover_password_cracking_explained.ipynb"
with open(output_path, "w") as f:
    import json
    json.dump(notebook_content, f)

output_path

